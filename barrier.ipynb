{
 "cells": [
  {
   "cell_type": "code",
   "execution_count": 19,
   "id": "5785812b",
   "metadata": {},
   "outputs": [],
   "source": [
    "# for the put, I will implement later\n",
    "import numpy as np\n",
    "from scipy.stats import norm"
   ]
  },
  {
   "cell_type": "code",
   "execution_count": 20,
   "id": "ec45678e",
   "metadata": {},
   "outputs": [],
   "source": [
    "def euro_vanilla_call(S, K, r, T, sigma):\n",
    "    #  S: spot price\n",
    "    #  K: strike price\n",
    "    #  T: time to maturity \n",
    "    #  r: interest rate\n",
    "    #  sigma: volatility of underlying asset\n",
    "    d1 = (np.log(S / K) + (r + 0.5 * sigma ** 2) * T) / (sigma * np.sqrt(T))\n",
    "    d2 = (np.log(S / K) + (r - 0.5 * sigma ** 2) * T) / (sigma * np.sqrt(T))\n",
    "\n",
    "    call = (S * norm.cdf(d1) - K * np.exp(-r * T) * norm.cdf(d2))\n",
    "\n",
    "    return call\n"
   ]
  },
  {
   "cell_type": "code",
   "execution_count": 21,
   "id": "7701ef5a",
   "metadata": {},
   "outputs": [],
   "source": [
    "#def euro_down_and_out_call(S,K,r,sigma ,T, H):\n",
    "    #  S: spot price\n",
    "    #  K: strike price\n",
    "    #  T: time to maturity, year\n",
    "    #  r: risk_free_rate\n",
    "    #  sigma: volatility of underlying asset\n",
    "    #  H: barrier price\n",
    "    #partA = (2 * r) / (sigma **2)\n",
    "    #partB =  euro_vanilla_call(S, K, T, r, sigma)\n",
    "    #partC = H**2 / S\n",
    "    #partD = pow(S / H, -(K - 1));\n",
    "    #partE = euro_vanilla_call(partB, K, T, r, sigma)\n",
    "    #return partB - partD * partE\n",
    "    #another method by wilmott\n"
   ]
  },
  {
   "cell_type": "code",
   "execution_count": 22,
   "id": "6263f5f2",
   "metadata": {},
   "outputs": [],
   "source": [
    "# H ≤ K the current value of a down-and-in call is the following\n",
    "#H ≤ K the current value of a down-and-out call is given by vanilla - down-and-in call\n",
    "def euro_down_and_in_call(S, K, H ,r ,T, sigma):\n",
    "    #  S: spot price\n",
    "    #  K: strike price\n",
    "    #  T: time to maturity, year\n",
    "    #  r: risk_free_rate\n",
    "    #  sigma: volatility of underlying asset\n",
    "    #  H: barrier price\n",
    "    A = ((r + sigma ** 2) / 2) / (sigma ** 2)\n",
    "    sqr_t= sigma * np.sqrt(T)\n",
    "    y = np.log(H ** 2 / (S * K)) / sqr_t + A * sqr_t\n",
    "    temp1 = S * np.exp( -r * T) * (H / S) ** (2 * A)* norm.cdf(y)\n",
    "    temp2 = - K * np.exp(-r * T) * (H / S) ** (2 * A - 2) * norm.cdf(y - sqr_t)\n",
    "    return temp1 + temp2\n"
   ]
  },
  {
   "cell_type": "code",
   "execution_count": null,
   "id": "912f84f9",
   "metadata": {},
   "outputs": [],
   "source": []
  },
  {
   "cell_type": "code",
   "execution_count": null,
   "id": "40a7bc42",
   "metadata": {},
   "outputs": [],
   "source": []
  },
  {
   "cell_type": "code",
   "execution_count": null,
   "id": "6c366c2e",
   "metadata": {},
   "outputs": [],
   "source": []
  },
  {
   "cell_type": "code",
   "execution_count": 23,
   "id": "0cfd1c54",
   "metadata": {},
   "outputs": [],
   "source": [
    "# the condition for H > K, the current value of a down-and-out call is the following\n",
    "# the current value of a down-and-in call is given by vanilla - down-and-out call\n",
    "def euro_down_and_out_call(S, K, H ,r ,T, sigma):\n",
    "    #  S: spot price\n",
    "    #  K: strike price\n",
    "    #  T: time to maturity, year\n",
    "    #  r: risk_free_rate\n",
    "    #  sigma: volatility of underlying asset\n",
    "    #  H: barrier price\n",
    "    A = ((r + sigma ** 2) / 2) / (sigma ** 2)\n",
    "    sqr_t= sigma * np.sqrt(T)\n",
    "    x1 = np.log(S / H) / sqr_t + A * sqr_t\n",
    "    y1 = np.log(H / S) / sqr_t + A * sqr_t\n",
    "    y = np.log(H ** 2 / (S * K)) / sqr_t + A * sqr_t\n",
    "    term1 = S * norm.cdf(x1) * np.exp(-r * T) \n",
    "    term2 = - K * np.exp(-r * T) * norm.cdf(x1 - sqr_t)\n",
    "    term3 = - S * np.exp(-r * T) * (H / S)** (2 * A) * norm.cdf(y1)\n",
    "    term4 = K *  np.exp(-r * T) * (H / S)** (2 * A - 2) * norm.cdf(y1 - sqr_t)\n",
    "    return term1 + term2 + term3 + term4\n",
    "    \n",
    "    \n",
    "\n",
    "\n"
   ]
  },
  {
   "cell_type": "code",
   "execution_count": null,
   "id": "608f0395",
   "metadata": {},
   "outputs": [],
   "source": []
  },
  {
   "cell_type": "code",
   "execution_count": 24,
   "id": "24d50a3c",
   "metadata": {},
   "outputs": [],
   "source": [
    "# When H ≤ K, the values of an up-and-in call and an up-and-out call are\n",
    "# up_and_in call = vanilla\n",
    "# up and out call = 0\n",
    "\n"
   ]
  },
  {
   "cell_type": "code",
   "execution_count": 3,
   "id": "5a8247a6",
   "metadata": {},
   "outputs": [],
   "source": [
    "# the condition for H > K, the current value of a up_and_in_call is the following\n",
    "# up and out formula is  given by vanilla - up_and_in call\n",
    "def euro_up_and_in_call(S, K, H ,r ,T, sigma):\n",
    "    #  S: spot price\n",
    "    #  K: strike price\n",
    "    #  T: time to maturity, year\n",
    "    #  r: risk_free_rate\n",
    "    #  sigma: volatility of underlying asset\n",
    "    #  H: barrier price\n",
    "    A = ((r + sigma ** 2) / 2) / (sigma ** 2)\n",
    "    sqr_t= sigma * np.sqrt(T)\n",
    "    x1 = np.log(S / H) / sqr_t + A * sqr_t\n",
    "    y1 = np.log(H / S) / sqr_t + A * sqr_t\n",
    "    y = np.log(H ** 2 / (S * K)) / sqr_t + A * sqr_t\n",
    "    term1 = S * norm.cdf(x1) * np.exp(-r * T)\n",
    "    term2 = - K * np.exp(-r * T) * norm.cdf(x1 - sqr_t)\n",
    "    term3 = - S * np.exp(-r * T) * (H / S) ** (2 * A) * (norm.cdf(-y) - norm.cdf(-y1))\n",
    "    term4 = K * np.exp(-r * T) * (H / S) ** (2 * A - 2) * (norm.cdf(-y + sqr_t) - norm.cdf(-y1 + sqr_t))\n",
    "    return term1 + term2 + term3 + term4\n",
    "\n",
    "    \n"
   ]
  },
  {
   "cell_type": "code",
   "execution_count": null,
   "id": "24da0c69",
   "metadata": {},
   "outputs": [],
   "source": []
  },
  {
   "cell_type": "code",
   "execution_count": 4,
   "id": "af119703",
   "metadata": {},
   "outputs": [],
   "source": [
    "# the condition for H > K, the current value of a up_and_in_put is the following\n",
    "# up and out formula  is given by vanilla - up_and_in put\n",
    "def euro_up_and_in_put(S, K, H ,r ,T, sigma):\n",
    "    #  S: spot price\n",
    "    #  K: strike price\n",
    "    #  T: time to maturity, year\n",
    "    #  r: risk_free_rate\n",
    "    #  sigma: volatility of underlying asset\n",
    "    #  H: barrier price\n",
    "    A = ((r + sigma ** 2) / 2) / (sigma ** 2)\n",
    "    sqr_t= sigma * np.sqrt(T)\n",
    "    y = np.log(H ** 2 / (S * K)) / sqr_t + A * sqr_t\n",
    "    temp1 = -S * np.exp( -r * T) * (H / S) ** (2 * A)* norm.cdf(-y)\n",
    "    temp2 = K * np.exp(-r * T) * (H / S) ** (2 * A - 2) * norm.cdf(-y + sqr_t)\n",
    "    return temp1 + temp2\n",
    "\n",
    "    "
   ]
  },
  {
   "cell_type": "code",
   "execution_count": 5,
   "id": "00dfe369",
   "metadata": {},
   "outputs": [
    {
     "ename": "NameError",
     "evalue": "name 'euro_down_and_in_put' is not defined",
     "output_type": "error",
     "traceback": [
      "\u001b[1;31m---------------------------------------------------------------------------\u001b[0m",
      "\u001b[1;31mNameError\u001b[0m                                 Traceback (most recent call last)",
      "\u001b[1;32m~\\AppData\\Local\\Temp\\ipykernel_24136\\3722644685.py\u001b[0m in \u001b[0;36m<module>\u001b[1;34m\u001b[0m\n\u001b[1;32m----> 1\u001b[1;33m \u001b[0meuro_down_and_in_put\u001b[0m\u001b[1;33m(\u001b[0m\u001b[1;36m110\u001b[0m\u001b[1;33m,\u001b[0m \u001b[1;36m100\u001b[0m\u001b[1;33m,\u001b[0m \u001b[1;36m105\u001b[0m \u001b[1;33m,\u001b[0m\u001b[1;36m0.1\u001b[0m \u001b[1;33m,\u001b[0m\u001b[1;36m1\u001b[0m\u001b[1;33m,\u001b[0m \u001b[1;36m3\u001b[0m\u001b[1;33m)\u001b[0m\u001b[1;33m\u001b[0m\u001b[1;33m\u001b[0m\u001b[0m\n\u001b[0m",
      "\u001b[1;31mNameError\u001b[0m: name 'euro_down_and_in_put' is not defined"
     ]
    }
   ],
   "source": [
    "euro_down_and_in_put(110, 100, 105 ,0.1 ,1, 3)"
   ]
  },
  {
   "cell_type": "code",
   "execution_count": 6,
   "id": "60c84957",
   "metadata": {},
   "outputs": [],
   "source": [
    "# the condition for H < K, the current value of a up-and-out put is the following\n",
    "# the current value of a up-and-in put is given by vanilla - up-and-out put\n",
    "def euro_up_and_out_put(S, K, H ,r ,T, sigma):\n",
    "    #  S: spot price\n",
    "    #  K: strike price\n",
    "    #  T: time to maturity, year\n",
    "    #  r: risk_free_rate\n",
    "    #  sigma: volatility of underlying asset\n",
    "    #  H: barrier price\n",
    "    A = ((r + sigma ** 2) / 2) / (sigma ** 2)\n",
    "    sqr_t= sigma * np.sqrt(T)\n",
    "    x1 = np.log(S / H) / sqr_t + A * sqr_t\n",
    "    y1 = np.log(H / S) / sqr_t + A * sqr_t\n",
    "    y = np.log(H ** 2 / (S * K)) / sqr_t + A * sqr_t\n",
    "    term1 = - S * norm.cdf(-x1) * np.exp(-r * T) \n",
    "    term2 = K * np.exp(-r * T) * norm.cdf(-x1 + sqr_t)\n",
    "    term3 = S * np.exp(-r * T) * (H / S)** (2 * A) * norm.cdf(-y1)\n",
    "    term4 = - K *  np.exp(-r * T) * (H / S)** (2 * A - 2) * norm.cdf(-y1 + sqr_t)\n",
    "    return term1 + term2 + term3 + term4\n",
    "    "
   ]
  },
  {
   "cell_type": "code",
   "execution_count": 7,
   "id": "ba80fbd1",
   "metadata": {},
   "outputs": [],
   "source": [
    "# When H > K, the values of an  down_and_in put and an down and out put = 0 are\n",
    "# down_and_in put = vanilla\n",
    "# down and out put = 0\n"
   ]
  },
  {
   "cell_type": "code",
   "execution_count": 8,
   "id": "7d9f6697",
   "metadata": {},
   "outputs": [],
   "source": [
    "# the condition for H < K, the current value of a down_and_in_put is the following\n",
    "# up and out formula is is given by vanilla - up_and_in call\n",
    "def euro_down_and_in_put(S, K, H ,r ,T, sigma):\n",
    "    #  S: spot price\n",
    "    #  K: strike price\n",
    "    #  T: time to maturity, year\n",
    "    #  r: risk_free_rate\n",
    "    #  sigma: volatility of underlying asset\n",
    "    #  H: barrier price\n",
    "    A = ((r + sigma ** 2) / 2) / (sigma ** 2)\n",
    "    sqr_t= sigma * np.sqrt(T)\n",
    "    x1 = np.log(S / H) / sqr_t + A * sqr_t\n",
    "    y1 = np.log(H / S) / sqr_t + A * sqr_t\n",
    "    y = np.log(H ** 2 / (S * K)) / sqr_t + A * sqr_t\n",
    "    term1 = - S * norm.cdf(-x1) * np.exp(-r * T)\n",
    "    term2 = K * np.exp(-r * T) * norm.cdf(- x1 + sqr_t)\n",
    "    term3 = S * np.exp(-r * T) * (H / S) ** (2 * A) * (norm.cdf(y) - norm.cdf(y1))\n",
    "    term4 = - K * np.exp(-r * T) * (H / S) ** (2 * A - 2) * (norm.cdf(y - sqr_t) - norm.cdf(y1 - sqr_t))\n",
    "    return term1 + term2 + term3 + term4"
   ]
  },
  {
   "cell_type": "code",
   "execution_count": 9,
   "id": "d60c3d1c",
   "metadata": {},
   "outputs": [],
   "source": [
    "#bump_size can be modifed to any other small value, it represents the barrier shift \n",
    "def delta( S, K, H ,r ,T, sigma ,bump_size = 0.001,barrier_type = \"down and in\" ):\n",
    "    #  S: spot price\n",
    "    #  K: strike price\n",
    "    #  T: time to maturity, year\n",
    "    #  r: risk_free_rate\n",
    "    #  sigma: volatility of underlying asset\n",
    "    #  H: barrier price\n",
    "    if barrier_type.lower() in (\"down and in\"):\n",
    "        price_up = euro_down_and_in_call( S * (1 + bump_size), K, H ,r ,T, sigma)\n",
    "        price = euro_down_and_in_call( S , K, H ,r ,T, sigma)\n",
    "        return (price_up - price) / ( bump_size * S )\n",
    "    elif barrier_type.lower() in (\"down and out\"):\n",
    "        price_up = euro_down_and_out_call( S * (1 + bump_size), K, H ,r ,T, sigma)\n",
    "        price = euro_down_and_out_call( S, K, H, r, T, sigma)\n",
    "        return (price_up - price) / ( bump_size * S )\n",
    "    elif barrier_type.lower() in (\"up and in\"):\n",
    "        price_up = euro_up_and_in_call( S * (1 + bump_size), K, H ,r ,T, sigma)\n",
    "        price = euro_up_and_in_call( S, K, H, r, T, sigma)\n",
    "        return (price_up - price) / ( bump_size * S )\n",
    "    elif barrier_type.lower() in (\"up and out\"):\n",
    "        price_up = euro_up_and_out_call( S * (1 + bump_size), K, H ,r ,T, sigma)\n",
    "        price = euro_up_and_out_call( S, K, H, r, T, sigma)\n",
    "        return (price_up - price) / ( bump_size * S )\n",
    "    else:\n",
    "        raise ValueError(f'Unknown Barrier Type: {barrier_type}')\n",
    "    \n",
    "             \n",
    "    "
   ]
  },
  {
   "cell_type": "code",
   "execution_count": null,
   "id": "aadd9c50",
   "metadata": {},
   "outputs": [],
   "source": []
  },
  {
   "cell_type": "code",
   "execution_count": 10,
   "id": "4cc28437",
   "metadata": {},
   "outputs": [],
   "source": [
    "def gamma( S, K, H ,r ,T, sigma, bump_size = 0.001,barrier_type = \"down and in\"):\n",
    "    #  S: spot price\n",
    "    #  K: strike price\n",
    "    #  T: time to maturity, year\n",
    "    #  r: risk_free_rate\n",
    "    #  sigma: volatility of underlying asset\n",
    "    #  H: barrier price\n",
    "    if barrier_type.lower() in (\"down and in\"):\n",
    "        price_up = euro_down_and_in_call(S * (1 + bump_size), K, H ,r ,T, sigma)\n",
    "        price = euro_down_and_in_call( S, K, H, r, T, sigma)\n",
    "        price_down = euro_down_and_in_call(S * (1 - bump_size), K, H ,r ,T, sigma)\n",
    "        return (price_up - 2 * price + price_down ) / ( bump_size * S)** 2\n",
    "    \n",
    "    elif barrier_type.lower() in (\"down and out\"):\n",
    "        price_up = euro_down_and_out_call(S * (1 + bump_size), K, H ,r ,T, sigma)\n",
    "        price = euro_down_and_out_call( S, K, H, r, T, sigma)\n",
    "        price_down = euro_down_and_out_call(S * (1 - bump_size), K, H ,r ,T, sigma)\n",
    "        return (price_up - 2 * price + price_down ) / ( bump_size * S)** 2\n",
    "    \n",
    "    elif barrier_type.lower() in (\"up and in\"):\n",
    "        price_up = euro_up_and_in_call(S * (1 + bump_size), K, H ,r ,T, sigma)\n",
    "        price = euro_up_and_in_call(S, K, H, r, T, sigma)\n",
    "        price_down = euro_up_and_in_call(S * (1 - bump_size), K, H ,r ,T, sigma)\n",
    "        return (price_up - 2 * price + price_down ) / ( bump_size * S)** 2\n",
    "    \n",
    "    elif barrier_type.lower() in (\"up and out\"):\n",
    "        price_up = euro_up_and_out_call(S * (1 + bump_size), K, H ,r ,T, sigma)\n",
    "        price = euro_up_and_out_call( S, K, H, r, T, sigma)\n",
    "        price_down = euro_up_and_out_call(S * (1 - bump_size), K, H ,r ,T, sigma)  \n",
    "        return (price_up - 2 * price + price_down ) / ( bump_size * S)** 2\n",
    "    else:\n",
    "        raise ValueError(f'Unknown Barrier Type: {barrier_type}')\n",
    "        \n",
    "    "
   ]
  },
  {
   "cell_type": "code",
   "execution_count": null,
   "id": "d0f8b617",
   "metadata": {},
   "outputs": [],
   "source": []
  },
  {
   "cell_type": "code",
   "execution_count": null,
   "id": "80b964c3",
   "metadata": {},
   "outputs": [],
   "source": []
  },
  {
   "cell_type": "code",
   "execution_count": null,
   "id": "9a5577a7",
   "metadata": {},
   "outputs": [],
   "source": []
  },
  {
   "cell_type": "code",
   "execution_count": 175,
   "id": "ab9babbc",
   "metadata": {},
   "outputs": [],
   "source": [
    "def theta(S, K, H ,r ,T, sigma, bump_size = 0.001,barrier_type = \"down and in\"):\n",
    "    #  S: spot price\n",
    "    #  K: strike price\n",
    "    #  T: time to maturity, year\n",
    "    #  r: risk_free_rate\n",
    "    #  sigma: volatility of underlying asset\n",
    "    #  H: barrier price\n",
    "    if barrier_type.lower() in (\"down and in\"):\n",
    "        time_up = euro_down_and_in_call(S, K, H ,r ,T * (1 + bump_size) , sigma)\n",
    "        price = euro_down_and_in_call( S, K, H ,r ,T , sigma)\n",
    "        return (time_up - price) /  bump_size\n",
    "    \n",
    "    elif barrier_type.lower() in (\"down and out\"):\n",
    "        time_up = euro_down_and_out_call(S, K, H ,r ,T * (1 + bump_size) , sigma)\n",
    "        price = euro_down_and_out_call( S, K, H ,r ,T , sigma)\n",
    "        return (time_up - price) /  bump_size\n",
    "    \n",
    "    elif barrier_type.lower() in (\"up and in\"):\n",
    "        time_up = euro_up_and_in_call(S, K, H ,r ,T * (1 + bump_size) , sigma)\n",
    "        price = euro_up_and_in_call( S, K, H ,r ,T , sigma)\n",
    "        return (time_up - price) /  bump_size\n",
    "    \n",
    "    elif barrier_type.lower() in (\"up and out\"):\n",
    "        time_up = euro_up_and_out_call(S, K, H ,r ,T * (1 + bump_size) , sigma)\n",
    "        price = euro_up_and_out_call( S, K, H ,r ,T , sigma)\n",
    "        return (time_up - price) /  bump_size\n",
    "    \n",
    "    else:\n",
    "        raise ValueError(f'Unknown Barrier Type: {barrier_type}')\n",
    "\n",
    "\n",
    "    \n",
    "        \n"
   ]
  },
  {
   "cell_type": "code",
   "execution_count": 184,
   "id": "50d15e12",
   "metadata": {},
   "outputs": [],
   "source": [
    "def vega(S, K, H ,r ,T, sigma, bump_size = 0.001,barrier_type = \"down and in\"):\n",
    "    #  S: spot price\n",
    "    #  K: strike price\n",
    "    #  T: time to maturity, year\n",
    "    #  r: risk_free_rate\n",
    "    #  sigma: volatility of underlying asset\n",
    "    #  H: barrier price\n",
    "    if barrier_type.lower() in (\"down and in\"):\n",
    "        #slightly shift for vol \n",
    "        vol_up = euro_down_and_in_call(S, K, H, r, T, sigma * (1 + bump_size))\n",
    "        price = euro_down_and_in_call( S, K, H ,r ,T , sigma)\n",
    "        return ( vol_up  - price) /  bump_size\n",
    "    \n",
    "    elif barrier_type.lower() in (\"down and out\"):\n",
    "        vol_up  = euro_down_and_out_call(S, K, H, r, T, sigma * (1 + bump_size))\n",
    "        price = euro_down_and_out_call( S, K, H ,r ,T , sigma)\n",
    "        return ( vol_up  - price) /  bump_size\n",
    "                                        \n",
    "    elif barrier_type.lower() in (\"up and in\"):\n",
    "        vol_up  = euro_up_and_in_call(S, K, H, r, T, sigma * (1 + bump_size))\n",
    "        price = euro_up_and_in_call( S, K, H ,r ,T , sigma)\n",
    "        return ( vol_up  - price) /  bump_size\n",
    "    \n",
    "    elif barrier_type.lower() in (\"up and out\"):\n",
    "        vol_up  = euro_up_and_out_call(S, K, H, r, T, sigma * (1 + bump_size))\n",
    "        price = euro_up_and_out_call( S, K, H ,r ,T , sigma)\n",
    "        return ( vol_up  - price) /  bump_size\n",
    "                                       \n",
    "    else:\n",
    "        raise ValueError(f'Unknown Barrier Type: {barrier_type}')\n",
    "\n"
   ]
  },
  {
   "cell_type": "code",
   "execution_count": 185,
   "id": "92db2d7c",
   "metadata": {
    "scrolled": true
   },
   "outputs": [
    {
     "data": {
      "text/plain": [
       "36.91478884729804"
      ]
     },
     "execution_count": 185,
     "metadata": {},
     "output_type": "execute_result"
    }
   ],
   "source": [
    "vega(110, 100, 105 ,0.1 ,1, 3, bump_size = 0.001,barrier_type = \"down and in\")"
   ]
  },
  {
   "cell_type": "code",
   "execution_count": 2,
   "id": "6edbedbe",
   "metadata": {},
   "outputs": [],
   "source": [
    "def rho(S, K, H ,r ,T, sigma, bump_size = 0.001,barrier_type = \"down and in\"):\n",
    "    #  S: spot price\n",
    "    #  K: strike price\n",
    "    #  T: time to maturity, year\n",
    "    #  r: risk_free_rate\n",
    "    #  sigma: volatility of underlying asset\n",
    "    #  H: barrier price\n",
    "    if barrier_type.lower() in (\"down and in\"):\n",
    "        #slightly shift for risk free rate\n",
    "        rate_up = euro_down_and_in_call(S, K, H, r * (1 + bump_size), T, sigma) \n",
    "        price = euro_down_and_in_call(S, K, H, r , T, sigma)\n",
    "        return ( rate_up  - price) /  bump_size\n",
    "    \n",
    "    elif barrier_type.lower() in (\"down and out\"):\n",
    "        rate_up = euro_down_and_out_call(S, K, H, r * (1 + bump_size), T, sigma) \n",
    "        price = euro_down_and_out_call( S, K, H ,r ,T , sigma)\n",
    "        return ( rate_up  - price) /  bump_size\n",
    "                                        \n",
    "    elif barrier_type.lower() in (\"up and in\"):\n",
    "        vol_up  = euro_up_and_in_call(S, K, H, r * (1 + bump_size), T, sigma)\n",
    "        price = euro_up_and_in_call( S, K, H ,r ,T , sigma)\n",
    "        return ( rate_up  - price) /  bump_size\n",
    "    \n",
    "    elif barrier_type.lower() in (\"up and out\"):\n",
    "        vol_up  = euro_up_and_out_call(S, K, H, r * (1 + bump_size), T, sigma)\n",
    "        price = euro_up_and_out_call(S, K, H ,r ,T , sigma)\n",
    "        return ( rate_up  - price) /  bump_size\n",
    "    else:\n",
    "        raise ValueError(f'Unknown Barrier Type: {barrier_type}')"
   ]
  },
  {
   "cell_type": "code",
   "execution_count": null,
   "id": "72715872",
   "metadata": {},
   "outputs": [],
   "source": []
  },
  {
   "cell_type": "code",
   "execution_count": null,
   "id": "ef7da069",
   "metadata": {},
   "outputs": [],
   "source": [
    "\n",
    "\n",
    "\n",
    "    \n",
    "    "
   ]
  },
  {
   "cell_type": "code",
   "execution_count": null,
   "id": "9a970801",
   "metadata": {},
   "outputs": [],
   "source": []
  },
  {
   "cell_type": "code",
   "execution_count": null,
   "id": "323be043",
   "metadata": {},
   "outputs": [],
   "source": []
  }
 ],
 "metadata": {
  "kernelspec": {
   "display_name": "Python 3 (ipykernel)",
   "language": "python",
   "name": "python3"
  },
  "language_info": {
   "codemirror_mode": {
    "name": "ipython",
    "version": 3
   },
   "file_extension": ".py",
   "mimetype": "text/x-python",
   "name": "python",
   "nbconvert_exporter": "python",
   "pygments_lexer": "ipython3",
   "version": "3.9.13"
  }
 },
 "nbformat": 4,
 "nbformat_minor": 5
}
